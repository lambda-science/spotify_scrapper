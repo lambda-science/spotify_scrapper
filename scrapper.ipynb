{
 "metadata": {
  "language_info": {
   "codemirror_mode": {
    "name": "ipython",
    "version": 3
   },
   "file_extension": ".py",
   "mimetype": "text/x-python",
   "name": "python",
   "nbconvert_exporter": "python",
   "pygments_lexer": "ipython3",
   "version": "3.7.1-final"
  },
  "orig_nbformat": 2,
  "kernelspec": {
   "name": "python3",
   "display_name": "Python 3"
  }
 },
 "nbformat": 4,
 "nbformat_minor": 2,
 "cells": [
  {
   "cell_type": "code",
   "execution_count": 1,
   "metadata": {},
   "outputs": [],
   "source": [
    "import requests\n",
    "from bs4 import BeautifulSoup\n",
    "from youtube_search import YoutubeSearch"
   ]
  },
  {
   "cell_type": "code",
   "execution_count": 61,
   "metadata": {},
   "outputs": [],
   "source": [
    "url = \"https://open.spotify.com/playlist/37i9dQZF1DWVi45nh2EuPP\"\n",
    "res = requests.get(url)\n",
    "file = open(\"spotifypage.html\", \"w\", encoding='utf8')\n",
    "file.write(res.text)\n",
    "file.close()"
   ]
  },
  {
   "cell_type": "code",
   "execution_count": 62,
   "metadata": {},
   "outputs": [],
   "source": [
    "f =  open('spotifypage.html', 'r', encoding='utf8')\n",
    "contents = f.read()\n",
    "soup = BeautifulSoup(contents, 'html.parser')"
   ]
  },
  {
   "cell_type": "code",
   "execution_count": 64,
   "metadata": {},
   "outputs": [],
   "source": [
    "all_track_list = soup.findAll(\"li\", {\"class\":\"tracklist-row js-track-row tracklist-row--track track-has-preview\"})\n",
    "my_musics = []\n",
    "for i in all_track_list:\n",
    "    track_name = i.findAll(\"span\", {\"class\": \"track-name\"})[0].text\n",
    "\n",
    "    # Handle the case where no artist is available\n",
    "    artist_div = i.findAll(\"span\", {\"class\": \"artists-albums\"})\n",
    "    if artist_div == []: artist_name = \"\"\n",
    "    else: artist_name = ' '.join(artist_div[0].text.split(\"•\")[0].split()).replace(\",\",\"\")\n",
    "\n",
    "    my_musics.append(track_name + \" \" + artist_name)"
   ]
  },
  {
   "cell_type": "code",
   "execution_count": null,
   "metadata": {},
   "outputs": [],
   "source": [
    "my_suffixes = []\n",
    "for i in my_musics:\n",
    "    results = YoutubeSearch(i, max_results=1).to_dict()\n",
    "    my_suffixes.append(results[0][\"url_suffix\"][9:])\n",
    "    print(i + \"\\t\" + \"https://www.youtube.com\"+results[0][\"url_suffix\"])\n",
    "print(\"\\n\")    \n",
    "print(\"==== Youtube Playlist URL ====\")\n",
    "print(\"http://www.youtube.com/watch_videos?video_ids=\"+\",\".join(my_suffixes))"
   ]
  }
 ]
}